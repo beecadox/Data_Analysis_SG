{
  "cells": [
    {
      "cell_type": "code",
      "execution_count": 1,
      "metadata": {
        "id": "xpqR5C_S3em-"
      },
      "outputs": [],
      "source": [
        "import pandas as pd\n",
        "import numpy as np \n",
        "import seaborn as sns\n",
        "import matplotlib.pyplot as plt\n",
        "from IPython.display import display"
      ]
    },
    {
      "cell_type": "code",
      "execution_count": 2,
      "metadata": {
        "id": "76a7loao3k_u"
      },
      "outputs": [],
      "source": [
        "dataset = pd.read_csv(\"../data/assignment_preprocessed.csv\")"
      ]
    },
    {
      "cell_type": "code",
      "execution_count": 3,
      "metadata": {
        "colab": {
          "base_uri": "https://localhost:8080/"
        },
        "id": "3XhSVT4M6S6Y",
        "outputId": "9b3aaaea-b7f4-4a55-e07b-bdee5639e460"
      },
      "outputs": [
        {
          "data": {
            "text/plain": [
              "(9860, 54)"
            ]
          },
          "execution_count": 3,
          "metadata": {},
          "output_type": "execute_result"
        }
      ],
      "source": [
        "dataset.shape"
      ]
    },
    {
      "cell_type": "code",
      "execution_count": 4,
      "metadata": {
        "colab": {
          "base_uri": "https://localhost:8080/",
          "height": 392
        },
        "id": "Fu8fJV5k6WKC",
        "outputId": "e5a22210-2050-47ac-eebb-41ef8672ec32"
      },
      "outputs": [
        {
          "data": {
            "text/html": [
              "<div>\n",
              "<style scoped>\n",
              "    .dataframe tbody tr th:only-of-type {\n",
              "        vertical-align: middle;\n",
              "    }\n",
              "\n",
              "    .dataframe tbody tr th {\n",
              "        vertical-align: top;\n",
              "    }\n",
              "\n",
              "    .dataframe thead th {\n",
              "        text-align: right;\n",
              "    }\n",
              "</style>\n",
              "<table border=\"1\" class=\"dataframe\">\n",
              "  <thead>\n",
              "    <tr style=\"text-align: right;\">\n",
              "      <th></th>\n",
              "      <th>id</th>\n",
              "      <th>ranking_score</th>\n",
              "      <th>agent_id</th>\n",
              "      <th>geography_name</th>\n",
              "      <th>sq_meters</th>\n",
              "      <th>price</th>\n",
              "      <th>year_of_construction</th>\n",
              "      <th>floor</th>\n",
              "      <th>subtype</th>\n",
              "      <th>rooms</th>\n",
              "      <th>...</th>\n",
              "      <th>for_commercial_use</th>\n",
              "      <th>fireplace</th>\n",
              "      <th>elevator</th>\n",
              "      <th>satellite</th>\n",
              "      <th>solar_heater</th>\n",
              "      <th>attic</th>\n",
              "      <th>pool</th>\n",
              "      <th>playroom</th>\n",
              "      <th>price_per_sqm</th>\n",
              "      <th>decade</th>\n",
              "    </tr>\n",
              "  </thead>\n",
              "  <tbody>\n",
              "    <tr>\n",
              "      <th>0</th>\n",
              "      <td>42911697</td>\n",
              "      <td>47.0</td>\n",
              "      <td>14680.0</td>\n",
              "      <td>northern sub</td>\n",
              "      <td>567</td>\n",
              "      <td>200000</td>\n",
              "      <td>2005</td>\n",
              "      <td>1</td>\n",
              "      <td>apartment</td>\n",
              "      <td>4</td>\n",
              "      <td>...</td>\n",
              "      <td>-1</td>\n",
              "      <td>-1</td>\n",
              "      <td>-1</td>\n",
              "      <td>-1</td>\n",
              "      <td>-1</td>\n",
              "      <td>-1</td>\n",
              "      <td>-1</td>\n",
              "      <td>-1</td>\n",
              "      <td>352.73</td>\n",
              "      <td>2000</td>\n",
              "    </tr>\n",
              "    <tr>\n",
              "      <th>1</th>\n",
              "      <td>43018583</td>\n",
              "      <td>134.7</td>\n",
              "      <td>15502.0</td>\n",
              "      <td>northern sub</td>\n",
              "      <td>642</td>\n",
              "      <td>550000</td>\n",
              "      <td>1992</td>\n",
              "      <td>ground-floor</td>\n",
              "      <td>detached</td>\n",
              "      <td>5</td>\n",
              "      <td>...</td>\n",
              "      <td>0</td>\n",
              "      <td>1</td>\n",
              "      <td>1</td>\n",
              "      <td>0</td>\n",
              "      <td>0</td>\n",
              "      <td>1</td>\n",
              "      <td>0</td>\n",
              "      <td>1</td>\n",
              "      <td>856.70</td>\n",
              "      <td>1990</td>\n",
              "    </tr>\n",
              "    <tr>\n",
              "      <th>2</th>\n",
              "      <td>39670968</td>\n",
              "      <td>71.0</td>\n",
              "      <td>9807.0</td>\n",
              "      <td>northern sub</td>\n",
              "      <td>320</td>\n",
              "      <td>500000</td>\n",
              "      <td>2009</td>\n",
              "      <td>ground-floor</td>\n",
              "      <td>detached</td>\n",
              "      <td>2</td>\n",
              "      <td>...</td>\n",
              "      <td>-1</td>\n",
              "      <td>1</td>\n",
              "      <td>-1</td>\n",
              "      <td>-1</td>\n",
              "      <td>-1</td>\n",
              "      <td>-1</td>\n",
              "      <td>-1</td>\n",
              "      <td>-1</td>\n",
              "      <td>1562.50</td>\n",
              "      <td>2000</td>\n",
              "    </tr>\n",
              "    <tr>\n",
              "      <th>3</th>\n",
              "      <td>39740833</td>\n",
              "      <td>122.0</td>\n",
              "      <td>14682.0</td>\n",
              "      <td>northern sub</td>\n",
              "      <td>95</td>\n",
              "      <td>230000</td>\n",
              "      <td>2007</td>\n",
              "      <td>1</td>\n",
              "      <td>apartment</td>\n",
              "      <td>3</td>\n",
              "      <td>...</td>\n",
              "      <td>0</td>\n",
              "      <td>1</td>\n",
              "      <td>1</td>\n",
              "      <td>0</td>\n",
              "      <td>0</td>\n",
              "      <td>0</td>\n",
              "      <td>0</td>\n",
              "      <td>0</td>\n",
              "      <td>2421.05</td>\n",
              "      <td>2000</td>\n",
              "    </tr>\n",
              "    <tr>\n",
              "      <th>4</th>\n",
              "      <td>36078547</td>\n",
              "      <td>116.5</td>\n",
              "      <td>8906.0</td>\n",
              "      <td>northern sub</td>\n",
              "      <td>291</td>\n",
              "      <td>970000</td>\n",
              "      <td>2010</td>\n",
              "      <td>ground-floor</td>\n",
              "      <td>maisonette</td>\n",
              "      <td>3</td>\n",
              "      <td>...</td>\n",
              "      <td>0</td>\n",
              "      <td>1</td>\n",
              "      <td>1</td>\n",
              "      <td>0</td>\n",
              "      <td>0</td>\n",
              "      <td>0</td>\n",
              "      <td>0</td>\n",
              "      <td>1</td>\n",
              "      <td>3333.33</td>\n",
              "      <td>2010</td>\n",
              "    </tr>\n",
              "    <tr>\n",
              "      <th>5</th>\n",
              "      <td>36152206</td>\n",
              "      <td>154.5</td>\n",
              "      <td>8123.0</td>\n",
              "      <td>northern sub</td>\n",
              "      <td>400</td>\n",
              "      <td>850000</td>\n",
              "      <td>2008</td>\n",
              "      <td>ground-floor</td>\n",
              "      <td>detached</td>\n",
              "      <td>6</td>\n",
              "      <td>...</td>\n",
              "      <td>0</td>\n",
              "      <td>1</td>\n",
              "      <td>1</td>\n",
              "      <td>1</td>\n",
              "      <td>1</td>\n",
              "      <td>1</td>\n",
              "      <td>1</td>\n",
              "      <td>1</td>\n",
              "      <td>2125.00</td>\n",
              "      <td>2000</td>\n",
              "    </tr>\n",
              "    <tr>\n",
              "      <th>6</th>\n",
              "      <td>43045884</td>\n",
              "      <td>27.8</td>\n",
              "      <td>11545.0</td>\n",
              "      <td>northern sub</td>\n",
              "      <td>583</td>\n",
              "      <td>220000</td>\n",
              "      <td>2155</td>\n",
              "      <td>ground-floor</td>\n",
              "      <td>detached</td>\n",
              "      <td>0</td>\n",
              "      <td>...</td>\n",
              "      <td>-1</td>\n",
              "      <td>-1</td>\n",
              "      <td>-1</td>\n",
              "      <td>-1</td>\n",
              "      <td>-1</td>\n",
              "      <td>-1</td>\n",
              "      <td>-1</td>\n",
              "      <td>-1</td>\n",
              "      <td>377.36</td>\n",
              "      <td>2150</td>\n",
              "    </tr>\n",
              "    <tr>\n",
              "      <th>7</th>\n",
              "      <td>42932512</td>\n",
              "      <td>160.5</td>\n",
              "      <td>8855.0</td>\n",
              "      <td>northern sub</td>\n",
              "      <td>440</td>\n",
              "      <td>1050000</td>\n",
              "      <td>1994</td>\n",
              "      <td>ground-floor</td>\n",
              "      <td>detached</td>\n",
              "      <td>4</td>\n",
              "      <td>...</td>\n",
              "      <td>0</td>\n",
              "      <td>1</td>\n",
              "      <td>1</td>\n",
              "      <td>0</td>\n",
              "      <td>1</td>\n",
              "      <td>0</td>\n",
              "      <td>1</td>\n",
              "      <td>1</td>\n",
              "      <td>2386.36</td>\n",
              "      <td>1990</td>\n",
              "    </tr>\n",
              "    <tr>\n",
              "      <th>8</th>\n",
              "      <td>43208870</td>\n",
              "      <td>124.8</td>\n",
              "      <td>11210.0</td>\n",
              "      <td>northern sub</td>\n",
              "      <td>300</td>\n",
              "      <td>550000</td>\n",
              "      <td>1993</td>\n",
              "      <td>ground-floor</td>\n",
              "      <td>detached</td>\n",
              "      <td>5</td>\n",
              "      <td>...</td>\n",
              "      <td>0</td>\n",
              "      <td>1</td>\n",
              "      <td>0</td>\n",
              "      <td>0</td>\n",
              "      <td>0</td>\n",
              "      <td>0</td>\n",
              "      <td>0</td>\n",
              "      <td>0</td>\n",
              "      <td>1833.33</td>\n",
              "      <td>1990</td>\n",
              "    </tr>\n",
              "    <tr>\n",
              "      <th>9</th>\n",
              "      <td>42301798</td>\n",
              "      <td>159.7</td>\n",
              "      <td>8855.0</td>\n",
              "      <td>northern sub</td>\n",
              "      <td>330</td>\n",
              "      <td>500000</td>\n",
              "      <td>2010</td>\n",
              "      <td>ground-floor</td>\n",
              "      <td>maisonette</td>\n",
              "      <td>3</td>\n",
              "      <td>...</td>\n",
              "      <td>0</td>\n",
              "      <td>1</td>\n",
              "      <td>0</td>\n",
              "      <td>0</td>\n",
              "      <td>1</td>\n",
              "      <td>0</td>\n",
              "      <td>0</td>\n",
              "      <td>1</td>\n",
              "      <td>1515.15</td>\n",
              "      <td>2010</td>\n",
              "    </tr>\n",
              "  </tbody>\n",
              "</table>\n",
              "<p>10 rows × 54 columns</p>\n",
              "</div>"
            ],
            "text/plain": [
              "         id  ranking_score  agent_id geography_name  sq_meters    price  \\\n",
              "0  42911697           47.0   14680.0   northern sub        567   200000   \n",
              "1  43018583          134.7   15502.0   northern sub        642   550000   \n",
              "2  39670968           71.0    9807.0   northern sub        320   500000   \n",
              "3  39740833          122.0   14682.0   northern sub         95   230000   \n",
              "4  36078547          116.5    8906.0   northern sub        291   970000   \n",
              "5  36152206          154.5    8123.0   northern sub        400   850000   \n",
              "6  43045884           27.8   11545.0   northern sub        583   220000   \n",
              "7  42932512          160.5    8855.0   northern sub        440  1050000   \n",
              "8  43208870          124.8   11210.0   northern sub        300   550000   \n",
              "9  42301798          159.7    8855.0   northern sub        330   500000   \n",
              "\n",
              "   year_of_construction         floor     subtype  rooms  ...  \\\n",
              "0                  2005             1   apartment      4  ...   \n",
              "1                  1992  ground-floor    detached      5  ...   \n",
              "2                  2009  ground-floor    detached      2  ...   \n",
              "3                  2007             1   apartment      3  ...   \n",
              "4                  2010  ground-floor  maisonette      3  ...   \n",
              "5                  2008  ground-floor    detached      6  ...   \n",
              "6                  2155  ground-floor    detached      0  ...   \n",
              "7                  1994  ground-floor    detached      4  ...   \n",
              "8                  1993  ground-floor    detached      5  ...   \n",
              "9                  2010  ground-floor  maisonette      3  ...   \n",
              "\n",
              "   for_commercial_use  fireplace elevator  satellite  solar_heater  attic  \\\n",
              "0                  -1         -1       -1         -1            -1     -1   \n",
              "1                   0          1        1          0             0      1   \n",
              "2                  -1          1       -1         -1            -1     -1   \n",
              "3                   0          1        1          0             0      0   \n",
              "4                   0          1        1          0             0      0   \n",
              "5                   0          1        1          1             1      1   \n",
              "6                  -1         -1       -1         -1            -1     -1   \n",
              "7                   0          1        1          0             1      0   \n",
              "8                   0          1        0          0             0      0   \n",
              "9                   0          1        0          0             1      0   \n",
              "\n",
              "   pool  playroom  price_per_sqm  decade  \n",
              "0    -1        -1         352.73    2000  \n",
              "1     0         1         856.70    1990  \n",
              "2    -1        -1        1562.50    2000  \n",
              "3     0         0        2421.05    2000  \n",
              "4     0         1        3333.33    2010  \n",
              "5     1         1        2125.00    2000  \n",
              "6    -1        -1         377.36    2150  \n",
              "7     1         1        2386.36    1990  \n",
              "8     0         0        1833.33    1990  \n",
              "9     0         1        1515.15    2010  \n",
              "\n",
              "[10 rows x 54 columns]"
            ]
          },
          "execution_count": 4,
          "metadata": {},
          "output_type": "execute_result"
        }
      ],
      "source": [
        "dataset.head(10)"
      ]
    },
    {
      "cell_type": "markdown",
      "metadata": {
        "id": "kAbK0IvQ_XWj"
      },
      "source": [
        "# Creating a new subset\n",
        "First we need to create a new subset based on our dataset using the columns of interest. In this case : \n",
        "\n",
        "\n",
        "```\n",
        "columns_of_interest = ['year_of_construction', 'subtype', 'price', 'sq_meters', 'geography_name']\n",
        "```\n",
        "\n",
        "Then we need to create two new columns.\n",
        "1. **Price per Square Meter** \n",
        "```\n",
        "price_per_sqm = price / sq_meters\n",
        "```\n",
        "2. **Decade**\n",
        "```\n",
        "decade = year / (year%10)\n",
        "```"
      ]
    },
    {
      "cell_type": "code",
      "execution_count": 5,
      "metadata": {
        "id": "lEWuG3H-6rAC"
      },
      "outputs": [],
      "source": [
        "columns_of_interest = ['year_of_construction', 'subtype', 'price', 'sq_meters', 'geography_name', 'price_per_sqm', 'decade']\n",
        "subset = dataset[columns_of_interest].copy()"
      ]
    },
    {
      "cell_type": "code",
      "execution_count": 6,
      "metadata": {
        "id": "cYqBfhws_Fnd"
      },
      "outputs": [
        {
          "data": {
            "text/html": [
              "<div>\n",
              "<style scoped>\n",
              "    .dataframe tbody tr th:only-of-type {\n",
              "        vertical-align: middle;\n",
              "    }\n",
              "\n",
              "    .dataframe tbody tr th {\n",
              "        vertical-align: top;\n",
              "    }\n",
              "\n",
              "    .dataframe thead th {\n",
              "        text-align: right;\n",
              "    }\n",
              "</style>\n",
              "<table border=\"1\" class=\"dataframe\">\n",
              "  <thead>\n",
              "    <tr style=\"text-align: right;\">\n",
              "      <th></th>\n",
              "      <th>year_of_construction</th>\n",
              "      <th>subtype</th>\n",
              "      <th>price</th>\n",
              "      <th>sq_meters</th>\n",
              "      <th>geography_name</th>\n",
              "      <th>price_per_sqm</th>\n",
              "      <th>decade</th>\n",
              "    </tr>\n",
              "  </thead>\n",
              "  <tbody>\n",
              "    <tr>\n",
              "      <th>0</th>\n",
              "      <td>2005</td>\n",
              "      <td>apartment</td>\n",
              "      <td>200000</td>\n",
              "      <td>567</td>\n",
              "      <td>northern sub</td>\n",
              "      <td>352.73</td>\n",
              "      <td>2000</td>\n",
              "    </tr>\n",
              "    <tr>\n",
              "      <th>1</th>\n",
              "      <td>1992</td>\n",
              "      <td>detached</td>\n",
              "      <td>550000</td>\n",
              "      <td>642</td>\n",
              "      <td>northern sub</td>\n",
              "      <td>856.70</td>\n",
              "      <td>1990</td>\n",
              "    </tr>\n",
              "    <tr>\n",
              "      <th>2</th>\n",
              "      <td>2009</td>\n",
              "      <td>detached</td>\n",
              "      <td>500000</td>\n",
              "      <td>320</td>\n",
              "      <td>northern sub</td>\n",
              "      <td>1562.50</td>\n",
              "      <td>2000</td>\n",
              "    </tr>\n",
              "  </tbody>\n",
              "</table>\n",
              "</div>"
            ],
            "text/plain": [
              "   year_of_construction    subtype   price  sq_meters geography_name  \\\n",
              "0                  2005  apartment  200000        567   northern sub   \n",
              "1                  1992   detached  550000        642   northern sub   \n",
              "2                  2009   detached  500000        320   northern sub   \n",
              "\n",
              "   price_per_sqm  decade  \n",
              "0         352.73    2000  \n",
              "1         856.70    1990  \n",
              "2        1562.50    2000  "
            ]
          },
          "execution_count": 6,
          "metadata": {},
          "output_type": "execute_result"
        }
      ],
      "source": [
        "subset.head(3)"
      ]
    },
    {
      "cell_type": "code",
      "execution_count": 7,
      "metadata": {},
      "outputs": [],
      "source": [
        "def get_visualization(dataset, to_groupby):\n",
        "    ax = dataset[to_groupby].value_counts().plot.barh(figsize=(8, 8))\n",
        "    ax.bar_label(ax.containers[0])\n",
        "    plt.xlabel(\"count\", labelpad=12)\n",
        "    plt.ylabel(to_groupby, labelpad=12)\n",
        "    plt.title('Amount of elements per category of '+ to_groupby, y=1.02)\n",
        "    plt.show()"
      ]
    },
    {
      "cell_type": "code",
      "execution_count": 8,
      "metadata": {},
      "outputs": [],
      "source": [
        "def get_min_max_mean(grouped_dataset, find_stats_of='price_per_sqm'):\n",
        "    \n",
        "    max_grouped = grouped_dataset.max()[find_stats_of]\n",
        "    min_grouped =  grouped_dataset.min()[find_stats_of]\n",
        "    mean_grouped = grouped_dataset.mean(numeric_only=True)[find_stats_of]\n",
        "    print('**', max_grouped.idxmax(), '** has the highest maximum **', find_stats_of, '** value: ', max_grouped.max())\n",
        "    print('**', min_grouped.idxmin(), '** has the lowest minimum **', find_stats_of, '** value: ', min_grouped.min())  \n",
        "    \n",
        "    print('**', mean_grouped.idxmax(), '** has the highest mean**', find_stats_of, '** value: ', round(mean_grouped.max(), 2))\n",
        "    print('**', mean_grouped.idxmin(), '** has the lowest mean **', find_stats_of, '** value: ', round(mean_grouped.min(), 2))  \n",
        "    "
      ]
    },
    {
      "cell_type": "code",
      "execution_count": 9,
      "metadata": {
        "id": "23NIzqddG8RB"
      },
      "outputs": [],
      "source": [
        "def stats(dataset, to_groupby='subtype', find_stats_of='price_per_sqm'):\n",
        "    print('Price per square meter per', to_groupby)\n",
        "    display(dataset.groupby(to_groupby, as_index=False)\n",
        "                   .agg({find_stats_of:['count', 'min', 'max', 'mean', 'median', 'std']}))\n",
        "    \n",
        "    get_min_max_mean(dataset.groupby(to_groupby), find_stats_of)"
      ]
    },
    {
      "attachments": {},
      "cell_type": "markdown",
      "metadata": {
        "id": "EjJHImkFB0W2"
      },
      "source": [
        "### Price per sqm Statistics\n"
      ]
    },
    {
      "cell_type": "code",
      "execution_count": 10,
      "metadata": {},
      "outputs": [
        {
          "data": {
            "text/plain": [
              "<Axes: xlabel='price_per_sqm', ylabel='Count'>"
            ]
          },
          "execution_count": 10,
          "metadata": {},
          "output_type": "execute_result"
        },
        {
          "data": {
            "image/png": "[encoded data removed]",
            "text/plain": [
              "<Figure size 640x480 with 1 Axes>"
            ]
          },
          "metadata": {},
          "output_type": "display_data"
        }
      ],
      "source": [
        "sns.histplot(subset['price_per_sqm'])"
      ]
    },
    {
      "attachments": {},
      "cell_type": "markdown",
      "metadata": {},
      "source": [
        "**per subtype**"
      ]
    },
    {
      "cell_type": "code",
      "execution_count": 11,
      "metadata": {},
      "outputs": [
        {
          "data": {
            "image/png": "[encoded data removed]",
            "text/plain": [
              "<Figure size 800x800 with 1 Axes>"
            ]
          },
          "metadata": {},
          "output_type": "display_data"
        }
      ],
      "source": [
        "get_visualization(dataset, 'subtype')"
      ]
    },
    {
      "cell_type": "code",
      "execution_count": 12,
      "metadata": {
        "colab": {
          "base_uri": "https://localhost:8080/",
          "height": 638
        },
        "id": "TgtNcsg-EBtU",
        "outputId": "aa314aed-5564-44ea-d7f8-15f022fe5e7b"
      },
      "outputs": [
        {
          "name": "stdout",
          "output_type": "stream",
          "text": [
            "Price per square meter per subtype\n"
          ]
        },
        {
          "data": {
            "text/html": [
              "<div>\n",
              "<style scoped>\n",
              "    .dataframe tbody tr th:only-of-type {\n",
              "        vertical-align: middle;\n",
              "    }\n",
              "\n",
              "    .dataframe tbody tr th {\n",
              "        vertical-align: top;\n",
              "    }\n",
              "\n",
              "    .dataframe thead tr th {\n",
              "        text-align: left;\n",
              "    }\n",
              "</style>\n",
              "<table border=\"1\" class=\"dataframe\">\n",
              "  <thead>\n",
              "    <tr>\n",
              "      <th></th>\n",
              "      <th>subtype</th>\n",
              "      <th colspan=\"6\" halign=\"left\">price_per_sqm</th>\n",
              "    </tr>\n",
              "    <tr>\n",
              "      <th></th>\n",
              "      <th></th>\n",
              "      <th>count</th>\n",
              "      <th>min</th>\n",
              "      <th>max</th>\n",
              "      <th>mean</th>\n",
              "      <th>median</th>\n",
              "      <th>std</th>\n",
              "    </tr>\n",
              "  </thead>\n",
              "  <tbody>\n",
              "    <tr>\n",
              "      <th>0</th>\n",
              "      <td>apartment</td>\n",
              "      <td>5978</td>\n",
              "      <td>222.22</td>\n",
              "      <td>11250.00</td>\n",
              "      <td>2729.336114</td>\n",
              "      <td>2560.000</td>\n",
              "      <td>1381.909653</td>\n",
              "    </tr>\n",
              "    <tr>\n",
              "      <th>1</th>\n",
              "      <td>apartment complex</td>\n",
              "      <td>13</td>\n",
              "      <td>600.00</td>\n",
              "      <td>5333.33</td>\n",
              "      <td>2518.460769</td>\n",
              "      <td>2363.640</td>\n",
              "      <td>1244.869215</td>\n",
              "    </tr>\n",
              "    <tr>\n",
              "      <th>2</th>\n",
              "      <td>building</td>\n",
              "      <td>153</td>\n",
              "      <td>317.46</td>\n",
              "      <td>5892.86</td>\n",
              "      <td>1895.435229</td>\n",
              "      <td>1666.670</td>\n",
              "      <td>1047.442035</td>\n",
              "    </tr>\n",
              "    <tr>\n",
              "      <th>3</th>\n",
              "      <td>bungalow</td>\n",
              "      <td>1</td>\n",
              "      <td>2266.67</td>\n",
              "      <td>2266.67</td>\n",
              "      <td>2266.670000</td>\n",
              "      <td>2266.670</td>\n",
              "      <td>NaN</td>\n",
              "    </tr>\n",
              "    <tr>\n",
              "      <th>4</th>\n",
              "      <td>detached</td>\n",
              "      <td>1382</td>\n",
              "      <td>250.00</td>\n",
              "      <td>16304.35</td>\n",
              "      <td>2867.854537</td>\n",
              "      <td>2543.910</td>\n",
              "      <td>1547.718951</td>\n",
              "    </tr>\n",
              "    <tr>\n",
              "      <th>5</th>\n",
              "      <td>loft</td>\n",
              "      <td>10</td>\n",
              "      <td>2325.58</td>\n",
              "      <td>6211.18</td>\n",
              "      <td>4033.432000</td>\n",
              "      <td>4279.850</td>\n",
              "      <td>1308.357764</td>\n",
              "    </tr>\n",
              "    <tr>\n",
              "      <th>6</th>\n",
              "      <td>maisonette</td>\n",
              "      <td>2112</td>\n",
              "      <td>806.45</td>\n",
              "      <td>10416.67</td>\n",
              "      <td>3103.957462</td>\n",
              "      <td>2647.060</td>\n",
              "      <td>1509.819684</td>\n",
              "    </tr>\n",
              "    <tr>\n",
              "      <th>7</th>\n",
              "      <td>other residential</td>\n",
              "      <td>52</td>\n",
              "      <td>649.35</td>\n",
              "      <td>10000.00</td>\n",
              "      <td>2834.297115</td>\n",
              "      <td>2313.725</td>\n",
              "      <td>1836.150674</td>\n",
              "    </tr>\n",
              "    <tr>\n",
              "      <th>8</th>\n",
              "      <td>studio</td>\n",
              "      <td>135</td>\n",
              "      <td>300.00</td>\n",
              "      <td>4545.45</td>\n",
              "      <td>1696.931778</td>\n",
              "      <td>1562.500</td>\n",
              "      <td>979.148275</td>\n",
              "    </tr>\n",
              "    <tr>\n",
              "      <th>9</th>\n",
              "      <td>villa</td>\n",
              "      <td>24</td>\n",
              "      <td>1121.37</td>\n",
              "      <td>5434.78</td>\n",
              "      <td>2521.902917</td>\n",
              "      <td>2355.815</td>\n",
              "      <td>1151.104218</td>\n",
              "    </tr>\n",
              "  </tbody>\n",
              "</table>\n",
              "</div>"
            ],
            "text/plain": [
              "             subtype price_per_sqm                                            \\\n",
              "                             count      min       max         mean    median   \n",
              "0          apartment          5978   222.22  11250.00  2729.336114  2560.000   \n",
              "1  apartment complex            13   600.00   5333.33  2518.460769  2363.640   \n",
              "2           building           153   317.46   5892.86  1895.435229  1666.670   \n",
              "3           bungalow             1  2266.67   2266.67  2266.670000  2266.670   \n",
              "4           detached          1382   250.00  16304.35  2867.854537  2543.910   \n",
              "5               loft            10  2325.58   6211.18  4033.432000  4279.850   \n",
              "6         maisonette          2112   806.45  10416.67  3103.957462  2647.060   \n",
              "7  other residential            52   649.35  10000.00  2834.297115  2313.725   \n",
              "8             studio           135   300.00   4545.45  1696.931778  1562.500   \n",
              "9              villa            24  1121.37   5434.78  2521.902917  2355.815   \n",
              "\n",
              "                \n",
              "           std  \n",
              "0  1381.909653  \n",
              "1  1244.869215  \n",
              "2  1047.442035  \n",
              "3          NaN  \n",
              "4  1547.718951  \n",
              "5  1308.357764  \n",
              "6  1509.819684  \n",
              "7  1836.150674  \n",
              "8   979.148275  \n",
              "9  1151.104218  "
            ]
          },
          "metadata": {},
          "output_type": "display_data"
        },
        {
          "name": "stdout",
          "output_type": "stream",
          "text": [
            "** detached ** has the highest maximum ** price_per_sqm ** value:  16304.35\n",
            "** apartment ** has the lowest minimum ** price_per_sqm ** value:  222.22\n",
            "** loft ** has the highest mean** price_per_sqm ** value:  4033.43\n",
            "** studio ** has the lowest mean ** price_per_sqm ** value:  1696.93\n"
          ]
        }
      ],
      "source": [
        "stats(subset, 'subtype', 'price_per_sqm')"
      ]
    },
    {
      "attachments": {},
      "cell_type": "markdown",
      "metadata": {
        "id": "ei6El8OSGjyQ"
      },
      "source": [
        "**per geography_name**"
      ]
    },
    {
      "cell_type": "code",
      "execution_count": 13,
      "metadata": {},
      "outputs": [
        {
          "data": {
            "image/png": "[encoded data removed]",
            "text/plain": [
              "<Figure size 800x800 with 1 Axes>"
            ]
          },
          "metadata": {},
          "output_type": "display_data"
        }
      ],
      "source": [
        "get_visualization(dataset, 'geography_name')"
      ]
    },
    {
      "cell_type": "code",
      "execution_count": 14,
      "metadata": {
        "id": "ohPDdkYWGjyW"
      },
      "outputs": [
        {
          "name": "stdout",
          "output_type": "stream",
          "text": [
            "Price per square meter per geography_name\n"
          ]
        },
        {
          "data": {
            "text/html": [
              "<div>\n",
              "<style scoped>\n",
              "    .dataframe tbody tr th:only-of-type {\n",
              "        vertical-align: middle;\n",
              "    }\n",
              "\n",
              "    .dataframe tbody tr th {\n",
              "        vertical-align: top;\n",
              "    }\n",
              "\n",
              "    .dataframe thead tr th {\n",
              "        text-align: left;\n",
              "    }\n",
              "</style>\n",
              "<table border=\"1\" class=\"dataframe\">\n",
              "  <thead>\n",
              "    <tr>\n",
              "      <th></th>\n",
              "      <th>geography_name</th>\n",
              "      <th colspan=\"6\" halign=\"left\">price_per_sqm</th>\n",
              "    </tr>\n",
              "    <tr>\n",
              "      <th></th>\n",
              "      <th></th>\n",
              "      <th>count</th>\n",
              "      <th>min</th>\n",
              "      <th>max</th>\n",
              "      <th>mean</th>\n",
              "      <th>median</th>\n",
              "      <th>std</th>\n",
              "    </tr>\n",
              "  </thead>\n",
              "  <tbody>\n",
              "    <tr>\n",
              "      <th>0</th>\n",
              "      <td>beesy neighborhood</td>\n",
              "      <td>1598</td>\n",
              "      <td>222.22</td>\n",
              "      <td>5405.41</td>\n",
              "      <td>1283.130801</td>\n",
              "      <td>1128.62</td>\n",
              "      <td>548.323592</td>\n",
              "    </tr>\n",
              "    <tr>\n",
              "      <th>1</th>\n",
              "      <td>gentrification area</td>\n",
              "      <td>616</td>\n",
              "      <td>625.00</td>\n",
              "      <td>8800.00</td>\n",
              "      <td>2586.162971</td>\n",
              "      <td>2500.00</td>\n",
              "      <td>854.570921</td>\n",
              "    </tr>\n",
              "    <tr>\n",
              "      <th>2</th>\n",
              "      <td>northern sub</td>\n",
              "      <td>3505</td>\n",
              "      <td>250.00</td>\n",
              "      <td>12500.00</td>\n",
              "      <td>2698.989521</td>\n",
              "      <td>2406.02</td>\n",
              "      <td>1174.296402</td>\n",
              "    </tr>\n",
              "    <tr>\n",
              "      <th>3</th>\n",
              "      <td>south beach</td>\n",
              "      <td>4141</td>\n",
              "      <td>625.00</td>\n",
              "      <td>16304.35</td>\n",
              "      <td>3509.723308</td>\n",
              "      <td>3176.47</td>\n",
              "      <td>1475.848270</td>\n",
              "    </tr>\n",
              "  </tbody>\n",
              "</table>\n",
              "</div>"
            ],
            "text/plain": [
              "        geography_name price_per_sqm                                          \\\n",
              "                               count     min       max         mean   median   \n",
              "0   beesy neighborhood          1598  222.22   5405.41  1283.130801  1128.62   \n",
              "1  gentrification area           616  625.00   8800.00  2586.162971  2500.00   \n",
              "2         northern sub          3505  250.00  12500.00  2698.989521  2406.02   \n",
              "3          south beach          4141  625.00  16304.35  3509.723308  3176.47   \n",
              "\n",
              "                \n",
              "           std  \n",
              "0   548.323592  \n",
              "1   854.570921  \n",
              "2  1174.296402  \n",
              "3  1475.848270  "
            ]
          },
          "metadata": {},
          "output_type": "display_data"
        },
        {
          "name": "stdout",
          "output_type": "stream",
          "text": [
            "** south beach ** has the highest maximum ** price_per_sqm ** value:  16304.35\n",
            "** beesy neighborhood ** has the lowest minimum ** price_per_sqm ** value:  222.22\n",
            "** south beach ** has the highest mean** price_per_sqm ** value:  3509.72\n",
            "** beesy neighborhood ** has the lowest mean ** price_per_sqm ** value:  1283.13\n"
          ]
        }
      ],
      "source": [
        "stats(subset, 'geography_name', 'price_per_sqm')"
      ]
    },
    {
      "attachments": {},
      "cell_type": "markdown",
      "metadata": {
        "id": "Xqh73JBhO11z"
      },
      "source": [
        "**decade**"
      ]
    },
    {
      "cell_type": "code",
      "execution_count": 15,
      "metadata": {},
      "outputs": [
        {
          "data": {
            "image/png": "[encoded data removed]",
            "text/plain": [
              "<Figure size 800x800 with 1 Axes>"
            ]
          },
          "metadata": {},
          "output_type": "display_data"
        }
      ],
      "source": [
        "get_visualization(dataset, 'decade')"
      ]
    },
    {
      "cell_type": "code",
      "execution_count": 16,
      "metadata": {
        "id": "EdyfxXtvI0W9"
      },
      "outputs": [
        {
          "name": "stdout",
          "output_type": "stream",
          "text": [
            "Price per square meter per decade\n"
          ]
        },
        {
          "data": {
            "text/html": [
              "<div>\n",
              "<style scoped>\n",
              "    .dataframe tbody tr th:only-of-type {\n",
              "        vertical-align: middle;\n",
              "    }\n",
              "\n",
              "    .dataframe tbody tr th {\n",
              "        vertical-align: top;\n",
              "    }\n",
              "\n",
              "    .dataframe thead tr th {\n",
              "        text-align: left;\n",
              "    }\n",
              "</style>\n",
              "<table border=\"1\" class=\"dataframe\">\n",
              "  <thead>\n",
              "    <tr>\n",
              "      <th></th>\n",
              "      <th>decade</th>\n",
              "      <th colspan=\"6\" halign=\"left\">price_per_sqm</th>\n",
              "    </tr>\n",
              "    <tr>\n",
              "      <th></th>\n",
              "      <th></th>\n",
              "      <th>count</th>\n",
              "      <th>min</th>\n",
              "      <th>max</th>\n",
              "      <th>mean</th>\n",
              "      <th>median</th>\n",
              "      <th>std</th>\n",
              "    </tr>\n",
              "  </thead>\n",
              "  <tbody>\n",
              "    <tr>\n",
              "      <th>0</th>\n",
              "      <td>1900</td>\n",
              "      <td>46</td>\n",
              "      <td>764.71</td>\n",
              "      <td>6250.00</td>\n",
              "      <td>2892.911087</td>\n",
              "      <td>2663.980</td>\n",
              "      <td>1596.534644</td>\n",
              "    </tr>\n",
              "    <tr>\n",
              "      <th>1</th>\n",
              "      <td>1910</td>\n",
              "      <td>8</td>\n",
              "      <td>933.33</td>\n",
              "      <td>6250.00</td>\n",
              "      <td>2978.532500</td>\n",
              "      <td>2823.595</td>\n",
              "      <td>1718.631652</td>\n",
              "    </tr>\n",
              "    <tr>\n",
              "      <th>2</th>\n",
              "      <td>1920</td>\n",
              "      <td>38</td>\n",
              "      <td>769.23</td>\n",
              "      <td>8571.43</td>\n",
              "      <td>3330.943421</td>\n",
              "      <td>1932.835</td>\n",
              "      <td>2343.779270</td>\n",
              "    </tr>\n",
              "    <tr>\n",
              "      <th>3</th>\n",
              "      <td>1930</td>\n",
              "      <td>62</td>\n",
              "      <td>605.26</td>\n",
              "      <td>11111.11</td>\n",
              "      <td>2544.514516</td>\n",
              "      <td>1503.840</td>\n",
              "      <td>2460.305881</td>\n",
              "    </tr>\n",
              "    <tr>\n",
              "      <th>4</th>\n",
              "      <td>1940</td>\n",
              "      <td>30</td>\n",
              "      <td>588.24</td>\n",
              "      <td>7058.82</td>\n",
              "      <td>2182.934667</td>\n",
              "      <td>1702.635</td>\n",
              "      <td>1585.654323</td>\n",
              "    </tr>\n",
              "    <tr>\n",
              "      <th>5</th>\n",
              "      <td>1950</td>\n",
              "      <td>174</td>\n",
              "      <td>407.41</td>\n",
              "      <td>11111.11</td>\n",
              "      <td>2028.847874</td>\n",
              "      <td>1427.350</td>\n",
              "      <td>1617.097143</td>\n",
              "    </tr>\n",
              "    <tr>\n",
              "      <th>6</th>\n",
              "      <td>1960</td>\n",
              "      <td>813</td>\n",
              "      <td>264.71</td>\n",
              "      <td>12500.00</td>\n",
              "      <td>1735.677798</td>\n",
              "      <td>1230.770</td>\n",
              "      <td>1220.716851</td>\n",
              "    </tr>\n",
              "    <tr>\n",
              "      <th>7</th>\n",
              "      <td>1970</td>\n",
              "      <td>1650</td>\n",
              "      <td>222.22</td>\n",
              "      <td>8571.43</td>\n",
              "      <td>2070.724497</td>\n",
              "      <td>1888.890</td>\n",
              "      <td>1095.528891</td>\n",
              "    </tr>\n",
              "    <tr>\n",
              "      <th>8</th>\n",
              "      <td>1980</td>\n",
              "      <td>1369</td>\n",
              "      <td>450.00</td>\n",
              "      <td>12500.00</td>\n",
              "      <td>2495.663930</td>\n",
              "      <td>2363.640</td>\n",
              "      <td>978.343459</td>\n",
              "    </tr>\n",
              "    <tr>\n",
              "      <th>9</th>\n",
              "      <td>1990</td>\n",
              "      <td>1180</td>\n",
              "      <td>250.00</td>\n",
              "      <td>9473.68</td>\n",
              "      <td>2688.367034</td>\n",
              "      <td>2500.000</td>\n",
              "      <td>989.313385</td>\n",
              "    </tr>\n",
              "    <tr>\n",
              "      <th>10</th>\n",
              "      <td>2000</td>\n",
              "      <td>2080</td>\n",
              "      <td>317.46</td>\n",
              "      <td>9565.22</td>\n",
              "      <td>2978.434231</td>\n",
              "      <td>2783.060</td>\n",
              "      <td>1172.711592</td>\n",
              "    </tr>\n",
              "    <tr>\n",
              "      <th>11</th>\n",
              "      <td>2010</td>\n",
              "      <td>1954</td>\n",
              "      <td>849.06</td>\n",
              "      <td>11250.00</td>\n",
              "      <td>3751.854667</td>\n",
              "      <td>3371.430</td>\n",
              "      <td>1591.472245</td>\n",
              "    </tr>\n",
              "    <tr>\n",
              "      <th>12</th>\n",
              "      <td>2020</td>\n",
              "      <td>41</td>\n",
              "      <td>2586.21</td>\n",
              "      <td>7220.22</td>\n",
              "      <td>4551.226341</td>\n",
              "      <td>4461.540</td>\n",
              "      <td>1257.617939</td>\n",
              "    </tr>\n",
              "    <tr>\n",
              "      <th>13</th>\n",
              "      <td>2150</td>\n",
              "      <td>415</td>\n",
              "      <td>353.98</td>\n",
              "      <td>16304.35</td>\n",
              "      <td>3971.061253</td>\n",
              "      <td>3823.530</td>\n",
              "      <td>1736.882729</td>\n",
              "    </tr>\n",
              "  </tbody>\n",
              "</table>\n",
              "</div>"
            ],
            "text/plain": [
              "   decade price_per_sqm                                                       \n",
              "                  count      min       max         mean    median          std\n",
              "0    1900            46   764.71   6250.00  2892.911087  2663.980  1596.534644\n",
              "1    1910             8   933.33   6250.00  2978.532500  2823.595  1718.631652\n",
              "2    1920            38   769.23   8571.43  3330.943421  1932.835  2343.779270\n",
              "3    1930            62   605.26  11111.11  2544.514516  1503.840  2460.305881\n",
              "4    1940            30   588.24   7058.82  2182.934667  1702.635  1585.654323\n",
              "5    1950           174   407.41  11111.11  2028.847874  1427.350  1617.097143\n",
              "6    1960           813   264.71  12500.00  1735.677798  1230.770  1220.716851\n",
              "7    1970          1650   222.22   8571.43  2070.724497  1888.890  1095.528891\n",
              "8    1980          1369   450.00  12500.00  2495.663930  2363.640   978.343459\n",
              "9    1990          1180   250.00   9473.68  2688.367034  2500.000   989.313385\n",
              "10   2000          2080   317.46   9565.22  2978.434231  2783.060  1172.711592\n",
              "11   2010          1954   849.06  11250.00  3751.854667  3371.430  1591.472245\n",
              "12   2020            41  2586.21   7220.22  4551.226341  4461.540  1257.617939\n",
              "13   2150           415   353.98  16304.35  3971.061253  3823.530  1736.882729"
            ]
          },
          "metadata": {},
          "output_type": "display_data"
        },
        {
          "name": "stdout",
          "output_type": "stream",
          "text": [
            "** 2150 ** has the highest maximum ** price_per_sqm ** value:  16304.35\n",
            "** 1970 ** has the lowest minimum ** price_per_sqm ** value:  222.22\n",
            "** 2020 ** has the highest mean** price_per_sqm ** value:  4551.23\n",
            "** 1960 ** has the lowest mean ** price_per_sqm ** value:  1735.68\n"
          ]
        }
      ],
      "source": [
        "stats(subset, 'decade', 'price_per_sqm')"
      ]
    },
    {
      "attachments": {},
      "cell_type": "markdown",
      "metadata": {
        "id": "udPgBH_qW1Yl"
      },
      "source": [
        "**Group by multiple**"
      ]
    },
    {
      "cell_type": "code",
      "execution_count": 17,
      "metadata": {
        "id": "cAJ_oY05W8wM"
      },
      "outputs": [
        {
          "name": "stdout",
          "output_type": "stream",
          "text": [
            "Price per square meter per ['subtype', 'decade', 'geography_name']\n"
          ]
        },
        {
          "data": {
            "text/html": [
              "<div>\n",
              "<style scoped>\n",
              "    .dataframe tbody tr th:only-of-type {\n",
              "        vertical-align: middle;\n",
              "    }\n",
              "\n",
              "    .dataframe tbody tr th {\n",
              "        vertical-align: top;\n",
              "    }\n",
              "\n",
              "    .dataframe thead tr th {\n",
              "        text-align: left;\n",
              "    }\n",
              "</style>\n",
              "<table border=\"1\" class=\"dataframe\">\n",
              "  <thead>\n",
              "    <tr>\n",
              "      <th></th>\n",
              "      <th>subtype</th>\n",
              "      <th>decade</th>\n",
              "      <th>geography_name</th>\n",
              "      <th colspan=\"6\" halign=\"left\">price_per_sqm</th>\n",
              "    </tr>\n",
              "    <tr>\n",
              "      <th></th>\n",
              "      <th></th>\n",
              "      <th></th>\n",
              "      <th></th>\n",
              "      <th>count</th>\n",
              "      <th>min</th>\n",
              "      <th>max</th>\n",
              "      <th>mean</th>\n",
              "      <th>median</th>\n",
              "      <th>std</th>\n",
              "    </tr>\n",
              "  </thead>\n",
              "  <tbody>\n",
              "    <tr>\n",
              "      <th>0</th>\n",
              "      <td>apartment</td>\n",
              "      <td>1900</td>\n",
              "      <td>beesy neighborhood</td>\n",
              "      <td>7</td>\n",
              "      <td>764.71</td>\n",
              "      <td>1560.00</td>\n",
              "      <td>1043.695714</td>\n",
              "      <td>1041.670</td>\n",
              "      <td>303.005918</td>\n",
              "    </tr>\n",
              "    <tr>\n",
              "      <th>1</th>\n",
              "      <td>apartment</td>\n",
              "      <td>1900</td>\n",
              "      <td>gentrification area</td>\n",
              "      <td>6</td>\n",
              "      <td>1696.43</td>\n",
              "      <td>3000.00</td>\n",
              "      <td>2278.196667</td>\n",
              "      <td>2268.635</td>\n",
              "      <td>546.206369</td>\n",
              "    </tr>\n",
              "    <tr>\n",
              "      <th>2</th>\n",
              "      <td>apartment</td>\n",
              "      <td>1900</td>\n",
              "      <td>northern sub</td>\n",
              "      <td>4</td>\n",
              "      <td>1500.00</td>\n",
              "      <td>3225.81</td>\n",
              "      <td>2191.870000</td>\n",
              "      <td>2020.835</td>\n",
              "      <td>731.913054</td>\n",
              "    </tr>\n",
              "    <tr>\n",
              "      <th>3</th>\n",
              "      <td>apartment</td>\n",
              "      <td>1900</td>\n",
              "      <td>south beach</td>\n",
              "      <td>8</td>\n",
              "      <td>1800.00</td>\n",
              "      <td>6181.82</td>\n",
              "      <td>3031.143750</td>\n",
              "      <td>2723.215</td>\n",
              "      <td>1335.950197</td>\n",
              "    </tr>\n",
              "    <tr>\n",
              "      <th>4</th>\n",
              "      <td>apartment</td>\n",
              "      <td>1920</td>\n",
              "      <td>beesy neighborhood</td>\n",
              "      <td>5</td>\n",
              "      <td>805.69</td>\n",
              "      <td>1505.38</td>\n",
              "      <td>1173.890000</td>\n",
              "      <td>1141.460</td>\n",
              "      <td>267.163575</td>\n",
              "    </tr>\n",
              "    <tr>\n",
              "      <th>...</th>\n",
              "      <td>...</td>\n",
              "      <td>...</td>\n",
              "      <td>...</td>\n",
              "      <td>...</td>\n",
              "      <td>...</td>\n",
              "      <td>...</td>\n",
              "      <td>...</td>\n",
              "      <td>...</td>\n",
              "      <td>...</td>\n",
              "    </tr>\n",
              "    <tr>\n",
              "      <th>207</th>\n",
              "      <td>villa</td>\n",
              "      <td>2000</td>\n",
              "      <td>northern sub</td>\n",
              "      <td>6</td>\n",
              "      <td>1333.33</td>\n",
              "      <td>2656.25</td>\n",
              "      <td>1930.291667</td>\n",
              "      <td>1961.540</td>\n",
              "      <td>484.507906</td>\n",
              "    </tr>\n",
              "    <tr>\n",
              "      <th>208</th>\n",
              "      <td>villa</td>\n",
              "      <td>2000</td>\n",
              "      <td>south beach</td>\n",
              "      <td>5</td>\n",
              "      <td>3010.75</td>\n",
              "      <td>5434.78</td>\n",
              "      <td>4260.148000</td>\n",
              "      <td>4583.330</td>\n",
              "      <td>936.317377</td>\n",
              "    </tr>\n",
              "    <tr>\n",
              "      <th>209</th>\n",
              "      <td>villa</td>\n",
              "      <td>2010</td>\n",
              "      <td>northern sub</td>\n",
              "      <td>1</td>\n",
              "      <td>2653.06</td>\n",
              "      <td>2653.06</td>\n",
              "      <td>2653.060000</td>\n",
              "      <td>2653.060</td>\n",
              "      <td>NaN</td>\n",
              "    </tr>\n",
              "    <tr>\n",
              "      <th>210</th>\n",
              "      <td>villa</td>\n",
              "      <td>2010</td>\n",
              "      <td>south beach</td>\n",
              "      <td>1</td>\n",
              "      <td>2200.00</td>\n",
              "      <td>2200.00</td>\n",
              "      <td>2200.000000</td>\n",
              "      <td>2200.000</td>\n",
              "      <td>NaN</td>\n",
              "    </tr>\n",
              "    <tr>\n",
              "      <th>211</th>\n",
              "      <td>villa</td>\n",
              "      <td>2150</td>\n",
              "      <td>northern sub</td>\n",
              "      <td>1</td>\n",
              "      <td>3194.44</td>\n",
              "      <td>3194.44</td>\n",
              "      <td>3194.440000</td>\n",
              "      <td>3194.440</td>\n",
              "      <td>NaN</td>\n",
              "    </tr>\n",
              "  </tbody>\n",
              "</table>\n",
              "<p>212 rows × 9 columns</p>\n",
              "</div>"
            ],
            "text/plain": [
              "       subtype decade       geography_name price_per_sqm                    \\\n",
              "                                                   count      min      max   \n",
              "0    apartment   1900   beesy neighborhood             7   764.71  1560.00   \n",
              "1    apartment   1900  gentrification area             6  1696.43  3000.00   \n",
              "2    apartment   1900         northern sub             4  1500.00  3225.81   \n",
              "3    apartment   1900          south beach             8  1800.00  6181.82   \n",
              "4    apartment   1920   beesy neighborhood             5   805.69  1505.38   \n",
              "..         ...    ...                  ...           ...      ...      ...   \n",
              "207      villa   2000         northern sub             6  1333.33  2656.25   \n",
              "208      villa   2000          south beach             5  3010.75  5434.78   \n",
              "209      villa   2010         northern sub             1  2653.06  2653.06   \n",
              "210      villa   2010          south beach             1  2200.00  2200.00   \n",
              "211      villa   2150         northern sub             1  3194.44  3194.44   \n",
              "\n",
              "                                         \n",
              "            mean    median          std  \n",
              "0    1043.695714  1041.670   303.005918  \n",
              "1    2278.196667  2268.635   546.206369  \n",
              "2    2191.870000  2020.835   731.913054  \n",
              "3    3031.143750  2723.215  1335.950197  \n",
              "4    1173.890000  1141.460   267.163575  \n",
              "..           ...       ...          ...  \n",
              "207  1930.291667  1961.540   484.507906  \n",
              "208  4260.148000  4583.330   936.317377  \n",
              "209  2653.060000  2653.060          NaN  \n",
              "210  2200.000000  2200.000          NaN  \n",
              "211  3194.440000  3194.440          NaN  \n",
              "\n",
              "[212 rows x 9 columns]"
            ]
          },
          "metadata": {},
          "output_type": "display_data"
        },
        {
          "name": "stdout",
          "output_type": "stream",
          "text": [
            "** ('detached', 2150, 'south beach') ** has the highest maximum ** price_per_sqm ** value:  16304.35\n",
            "** ('apartment', 1970, 'beesy neighborhood') ** has the lowest minimum ** price_per_sqm ** value:  222.22\n",
            "** ('detached', 1930, 'south beach') ** has the highest mean** price_per_sqm ** value:  8172.51\n",
            "** ('building', 2150, 'northern sub') ** has the lowest mean ** price_per_sqm ** value:  353.98\n"
          ]
        }
      ],
      "source": [
        "stats(subset, ['subtype','decade', 'geography_name'], 'price_per_sqm')"
      ]
    },
    {
      "cell_type": "code",
      "execution_count": 18,
      "metadata": {},
      "outputs": [],
      "source": [
        "mean_listings = subset.groupby(['subtype','decade', 'geography_name']).mean(numeric_only=True)['price_per_sqm']"
      ]
    },
    {
      "cell_type": "code",
      "execution_count": 19,
      "metadata": {},
      "outputs": [
        {
          "name": "stdout",
          "output_type": "stream",
          "text": [
            "Top 10 most low-priced listing categories:\n",
            "1 . building-2150-northern sub  :  353.98 €\n",
            "2 . apartment complex-1970-beesy neighborhood  :  600.0 €\n",
            "3 . studio-1950-beesy neighborhood  :  768.06 €\n",
            "4 . studio-1960-beesy neighborhood  :  810.78 €\n",
            "5 . building-1990-northern sub  :  811.0 €\n",
            "6 . detached-1910-beesy neighborhood  :  933.33 €\n",
            "7 . building-1950-beesy neighborhood  :  974.4 €\n",
            "8 . building-1930-beesy neighborhood  :  977.82 €\n",
            "9 . building-1980-beesy neighborhood  :  988.51 €\n",
            "10 . detached-2000-beesy neighborhood  :  1000.0 €\n"
          ]
        }
      ],
      "source": [
        "print('Top 10 most low-priced listing categories:')   \n",
        "for i, (key, value) in enumerate(dict(mean_listings.nsmallest(10)).items()):\n",
        "    print(i+1, '.', '-'.join(str(k) for k in key), ' : ', round(value, 2), '€')"
      ]
    },
    {
      "cell_type": "code",
      "execution_count": 20,
      "metadata": {},
      "outputs": [
        {
          "name": "stdout",
          "output_type": "stream",
          "text": [
            "Top 10 most expensive listing categories:\n",
            "1 . detached-1930-south beach  :  8172.51 €\n",
            "2 . detached-1920-south beach  :  6569.48 €\n",
            "3 . maisonette-1960-northern sub  :  6000.0 €\n",
            "4 . other residential-2010-northern sub  :  5893.42 €\n",
            "5 . detached-1950-south beach  :  5561.39 €\n",
            "6 . detached-1920-northern sub  :  5464.18 €\n",
            "7 . apartment complex-2010-northern sub  :  5333.33 €\n",
            "8 . maisonette-2020-south beach  :  5327.66 €\n",
            "9 . detached-1910-northern sub  :  5312.5 €\n",
            "10 . maisonette-1900-south beach  :  5297.3 €\n"
          ]
        }
      ],
      "source": [
        "print('Top 10 most expensive listing categories:')\n",
        "for i, (key, value) in enumerate(dict(mean_listings.nlargest(10)).items()):\n",
        "    print(i+1, '.', '-'.join(str(k) for k in key), ': ', round(value, 2), '€')"
      ]
    },
    {
      "cell_type": "code",
      "execution_count": 21,
      "metadata": {
        "colab": {
          "base_uri": "https://localhost:8080/"
        },
        "id": "KZsgso_0X06G",
        "outputId": "48df40b2-2aed-4c38-dad5-748125c813fd"
      },
      "outputs": [
        {
          "data": {
            "text/plain": [
              "0.5226402500523053"
            ]
          },
          "execution_count": 21,
          "metadata": {},
          "output_type": "execute_result"
        }
      ],
      "source": [
        "subset['price_per_sqm'].corr(subset['geography_name'].astype('category').cat.codes)"
      ]
    },
    {
      "cell_type": "code",
      "execution_count": 22,
      "metadata": {},
      "outputs": [
        {
          "data": {
            "text/plain": [
              "0.42107567816155744"
            ]
          },
          "execution_count": 22,
          "metadata": {},
          "output_type": "execute_result"
        }
      ],
      "source": [
        "subset['price_per_sqm'].corr(subset['year_of_construction'].astype('category').cat.codes)"
      ]
    },
    {
      "cell_type": "code",
      "execution_count": 23,
      "metadata": {
        "colab": {
          "base_uri": "https://localhost:8080/"
        },
        "id": "Ei0p8SwJX-3p",
        "outputId": "c96cf2d9-cdfd-47a8-aa9d-aeba373ea0f2"
      },
      "outputs": [
        {
          "data": {
            "text/plain": [
              "0.4059213756071144"
            ]
          },
          "execution_count": 23,
          "metadata": {},
          "output_type": "execute_result"
        }
      ],
      "source": [
        "subset['price_per_sqm'].corr(subset['decade'].astype('category').cat.codes)"
      ]
    },
    {
      "cell_type": "code",
      "execution_count": 24,
      "metadata": {
        "colab": {
          "base_uri": "https://localhost:8080/"
        },
        "id": "TMo8T398X-en",
        "outputId": "fbe7cfaa-2cd6-4eac-a924-4a108990ff52"
      },
      "outputs": [
        {
          "data": {
            "text/plain": [
              "0.0709656967198924"
            ]
          },
          "execution_count": 24,
          "metadata": {},
          "output_type": "execute_result"
        }
      ],
      "source": [
        "subset['price_per_sqm'].corr(subset['subtype'].astype('category').cat.codes)"
      ]
    }
  ],
  "metadata": {
    "colab": {
      "provenance": []
    },
    "kernelspec": {
      "display_name": "Python 3",
      "name": "python3"
    },
    "language_info": {
      "codemirror_mode": {
        "name": "ipython",
        "version": 3
      },
      "file_extension": ".py",
      "mimetype": "text/x-python",
      "name": "python",
      "nbconvert_exporter": "python",
      "pygments_lexer": "ipython3",
      "version": "3.9.16"
    }
  },
  "nbformat": 4,
  "nbformat_minor": 0
}
